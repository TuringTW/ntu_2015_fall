{
 "cells": [
  {
   "cell_type": "code",
   "execution_count": 14,
   "metadata": {
    "collapsed": false
   },
   "outputs": [
    {
     "name": "stdout",
     "output_type": "stream",
     "text": [
      "Populating the interactive namespace from numpy and matplotlib\n"
     ]
    }
   ],
   "source": [
    "%pylab inline\n",
    "\n",
    "# data from Seaborg, et al, Phys Rev 77 26 (1950) \n",
    "h = 3600; d = 86400; m = 2.6298E6; y = 3.15576E7;\n",
    "\n",
    "z=np.zeros(25)\n",
    "q=np.zeros(25)\n",
    "t=np.zeros(25)\n",
    "\n",
    "\n",
    "# z: atomic number\n",
    "# q: alpha energy\n",
    "# t: measured half-life\n",
    "\n",
    "z[1] = z[2] = 94; # Cm\n",
    "z[3] = z[4] = z[5] = 92; # Pu\n",
    "z[6] = z[7] = z[8] = z[9] = z[10] = 90;  # U \n",
    "z[11] = z[12] = z[13] = z[14] = 88; z[15] = z[16] = z[17] = 86; # Th\n",
    "z[18] = z[19] = z[20] = 84; # Ra\n",
    "z[21] = z[22] = z[23] = z[24] = 82; # Po\n",
    "\n",
    "q[1] = 6.18; t[1] = 150*d; # Cm242 \n",
    "\n",
    "q[2] = 6.37; t[2] = 26.8* d;# Cm240\n",
    "\n",
    "q[3] = 5.60; t[3] = 92* y;# Pu238\n",
    "\n",
    "q[4] = 5.85; t[4] = 2.7* y;# Pu236\n",
    "\n",
    "q[5] = 6.26; t[5] = 8.5* h;# Pu234 \n",
    "\n",
    "q[6] = 4.25; t[6] = 4.51E9* y;# U238\n",
    "\n",
    "q[7] = 4.84; t[7] = 2.35E5* y; # U234\n",
    "\n",
    "q[8] = 5.40; t[8] = 70* y; # U232\n",
    "\n",
    "q[9] = 5.96; t[9] = 20.8* d;# U230 \n",
    "\n",
    "q[10] = 6.83; t[10] = 9.3*60;# U228\n",
    "    \n",
    "q[11] = 4.05; t[11] = 1.39*10**10*y;# Th232 \n",
    "\n",
    "q[12] = 4.76; t[12] = 8.0*10**4 *y;# Th230\n",
    "\n",
    "q[13] = 5.52; t[13] = 1.90* y;# Th228\n",
    "\n",
    "q[14] = 6.41; t[14] = 30.9*60;# Th226\n",
    "\n",
    "q[15] = 4.88; t[15] = 1622*y;# Ra226\n",
    "\n",
    "q[16] = 5.78; t[16] = 3.64*d;# Ra224\n",
    "\n",
    "q[17] = 6.62; t[17] = 38;# Ra222\n",
    "\n",
    "q[18] = 5.59; t[18] = 3.83* d;# Rn222\n",
    "\n",
    "q[19] = 6.39; t[19] = 54.5;# Rn220\n",
    "\n",
    "q[20] = 7.25; t[20] = 0.019;# Rn218\n",
    "\n",
    "q[21] = 6.12; t[21] = 3.05*60;# Po218\n",
    "\n",
    "q[22] = 6.89; t[22] = 0.158;# Po216\n",
    "\n",
    "q[23] = 7.83; t[23] = 1.5E-4;# Po214\n",
    "\n",
    "q[24] = 8.95; t[24] = 3.0E-7;# Po212"
   ]
  },
  {
   "cell_type": "code",
   "execution_count": null,
   "metadata": {
    "collapsed": true
   },
   "outputs": [],
   "source": []
  }
 ],
 "metadata": {
  "kernelspec": {
   "display_name": "Python 3",
   "language": "python",
   "name": "python3"
  },
  "language_info": {
   "codemirror_mode": {
    "name": "ipython",
    "version": 3
   },
   "file_extension": ".py",
   "mimetype": "text/x-python",
   "name": "python",
   "nbconvert_exporter": "python",
   "pygments_lexer": "ipython3",
   "version": "3.4.3"
  }
 },
 "nbformat": 4,
 "nbformat_minor": 0
}
